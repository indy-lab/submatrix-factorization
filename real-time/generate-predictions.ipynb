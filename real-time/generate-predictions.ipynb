{
 "cells": [
  {
   "cell_type": "markdown",
   "metadata": {},
   "source": [
    "# Real-Time Predictions\n",
    "\n",
    "Analysis of real-time predictions on four votes.\n",
    "\n",
    "**Note:** For some reasons I can't explain, there are two requests that were not saved on `2020-02-09`:\n",
    "\n",
    "- `2020-02-09-16-03`\n",
    "- `2020-02-09-17-17`\n",
    "\n",
    "I replicated the previous datapoints, i.e., at `16-01` and `17-15`, in order to avoid a hole in the data."
   ]
  },
  {
   "cell_type": "code",
   "execution_count": 1,
   "metadata": {},
   "outputs": [],
   "source": [
    "import matplotlib.pyplot as plt\n",
    "import numpy as np\n",
    "import os\n",
    "import pickle\n",
    "import re\n",
    "\n",
    "from collections import namedtuple\n",
    "from glob import glob\n",
    "from predictor import Predictor\n",
    "from scraper import scrape_referendum\n",
    "\n",
    "VERBOSE = False\n",
    "\n",
    "ZHWT = set([\n",
    "    230,  # Winterthur.\n",
    "    261,  # Zurich.\n",
    "])\n",
    "KREISE = set([\n",
    "    10230, 20230, 30230, 40230, 50230, 60230, 70230,  # Winterthur.\n",
    "    10261, 20261, 61261, 40261, 50261, 60261, 70261, 80261, 90261  # Zurich.\n",
    "])\n",
    "DATES= ['2019-05-19', '2020-02-09']\n",
    "VOTES = [\n",
    "    6270,  # RFFA.\n",
    "    6280,  # Schengen.\n",
    "    6290,  # Affordable houses.\n",
    "    6300,  # Discrimination.\n",
    "]\n",
    "VOTE2DATE = {\n",
    "    6270: '2019-05-19',\n",
    "    6280: '2019-05-19',\n",
    "    6290: '2020-02-09',\n",
    "    6300: '2020-02-09',\n",
    "}\n",
    "DATE2VOTES = {\n",
    "    '2019-05-19': [6270, 6280],\n",
    "    '2020-02-09': [6290, 6300]\n",
    "}\n",
    "\n",
    "Result = namedtuple('Result', 'vote ogd_id yes_percent num_valid')"
   ]
  },
  {
   "cell_type": "markdown",
   "metadata": {},
   "source": [
    "## Load data"
   ]
  },
  {
   "cell_type": "code",
   "execution_count": 2,
   "metadata": {},
   "outputs": [
    {
     "name": "stdout",
     "output_type": "stream",
     "text": [
      "2020-02-09 100.00%\r"
     ]
    }
   ],
   "source": [
    "data = dict()\n",
    "for date in DATES:\n",
    "    files = glob(f'data/{date}/*.json')\n",
    "    for i, file in enumerate(files):\n",
    "        # Keep timestamp as YYYY-MM-DD-HH-mm.\n",
    "        pattern = f'data-({date}-' + r'\\d\\d-\\d\\d)-\\d\\d.json'\n",
    "        timestamp = re.sub(pattern, r'\\1', os.path.basename(file))\n",
    "        # Scrape JSON data.\n",
    "        data[timestamp] = scrape_referendum(file)\n",
    "        print(f'{date} {(i+1)/len(files)*100:.2f}%', end='\\r')"
   ]
  },
  {
   "cell_type": "code",
   "execution_count": 3,
   "metadata": {
    "scrolled": false
   },
   "outputs": [
    {
     "name": "stdout",
     "output_type": "stream",
     "text": [
      "Generating predictions for vote 6270...\n",
      "Generating predictions for vote 6280...\n",
      "Generating predictions for vote 6290...\n",
      "Generating predictions for vote 6300...\n",
      "CPU times: user 1min 29s, sys: 1.48 s, total: 1min 30s\n",
      "Wall time: 55 s\n"
     ]
    }
   ],
   "source": [
    "%%time\n",
    "\n",
    "# Get historical data.\n",
    "munvotes, minfo, _ = Predictor.load_data('../data/munvoteinfo.pkl')\n",
    "# Store predictions.\n",
    "pred_data = dict()\n",
    "for date in DATES:\n",
    "    pred_data.update({v: list() for v in DATE2VOTES[date]})\n",
    "    for vote in DATE2VOTES[date]:\n",
    "        # Keep sorted list of timestamps.\n",
    "        pattern = r'[\\d]{4}-\\d\\d-\\d\\d-'\n",
    "        sorted_ts = sorted(set([re.sub(pattern, r'', k) for k in data.keys()]))\n",
    "        last = data['-'.join([date, sorted_ts[-1]])]\n",
    "        N = 0\n",
    "        for res in last:\n",
    "            # Filter vote.\n",
    "            if res['vote'] != vote:\n",
    "                continue\n",
    "            ogd = res['municipality']\n",
    "            # If vote is 05-19, then ignore Kreise.\n",
    "            if date == '2019-05-19':\n",
    "                if ogd in KREISE:\n",
    "                    continue\n",
    "            # If vote is 09-02, ignore Zurich and Winterthur as municipalities.\n",
    "            elif date == '2020-02-09':\n",
    "                if ogd in ZHWT:\n",
    "                    continue\n",
    "            N += res['num_valid']\n",
    "\n",
    "        # Define model.\n",
    "        model = Predictor(munvotes, minfo, d=25, gamma=0.01, n_iter=20000)\n",
    "\n",
    "        print(f'Generating predictions for vote {vote}...')\n",
    "        preds = list()\n",
    "        date = VOTE2DATE[vote]\n",
    "        for i, ts in enumerate(sorted_ts):\n",
    "            datum = data['-'.join([date, ts])]\n",
    "            # Get observed and unobserved results.\n",
    "            obs, uobs = list(), list()\n",
    "            for res in datum:\n",
    "                # Filter vote.\n",
    "                if res['vote'] != vote:\n",
    "                    continue\n",
    "                ogd = res['municipality']\n",
    "                # If vote is 05-19, then ignore Kreise.\n",
    "                if date == '2019-05-19':\n",
    "                    if ogd in KREISE:\n",
    "                        continue\n",
    "                # If vote is 09-02, ignore Zurich and Winterthur.\n",
    "                elif date == '2020-02-09':\n",
    "                    if ogd in ZHWT:\n",
    "                        continue\n",
    "                if res['yes_percent'] is not None:\n",
    "                    obs.append(Result(\n",
    "                        vote=res['vote'],\n",
    "                        ogd_id=ogd,\n",
    "                        yes_percent=res['yes_percent'],\n",
    "                        num_valid=res['num_valid']\n",
    "                    ))\n",
    "                else:\n",
    "                    if ogd in minfo.index:\n",
    "                        uobs.append(Result(\n",
    "                            vote=res['vote'],\n",
    "                            ogd_id=ogd,\n",
    "                            yes_percent=None,\n",
    "                            num_valid=float(minfo.loc[ogd])\n",
    "                        ))\n",
    "            if len(obs) == 0:\n",
    "                if VERBOSE:\n",
    "                    print(f'Skipping {ts}: no result available.')\n",
    "                continue\n",
    "\n",
    "            # Predict national outcome.\n",
    "            yp, _ = model.predict(obs)  # Get predictions in all municipalities.\n",
    "            pred = model.aggregate(obs, uobs, yp)\n",
    "            Nobs = np.sum([r.num_valid for r in obs])\n",
    "            count = np.sum([r.yes_percent*r.num_valid for r in obs]) / Nobs\n",
    "            preds.append({\n",
    "                'timestamp': ts,\n",
    "                'ypred': pred,\n",
    "                'count': count,\n",
    "                'counting': Nobs / N\n",
    "            })\n",
    "            pred = preds[-1]\n",
    "            if VERBOSE:\n",
    "                print(f'Prediction at {ts} for vote {vote}...')\n",
    "                print(f'  Prediction:   {pred[\"ypred\"]*100:.2f}%')\n",
    "                print(f'  Counted:      {pred[\"count\"]*100:.2f}%')\n",
    "                print(f'  Observed:     {len(obs)}')\n",
    "                print(f'  Unobserved:   {len(uobs)}')\n",
    "                print(f'  Counting (p): {pred[\"counting\"]*100:.2f}%')\n",
    "            # Update progress.\n",
    "            print(f'{(i+1)/len(sorted_ts)*100:.2f}%', end='\\r')\n",
    "            # Stop when we have counted all results.\n",
    "            if Nobs == N:\n",
    "                if VERBOSE:\n",
    "                    print(f'Counting done ({ts}).')\n",
    "                break\n",
    "        pred_data[vote] = preds"
   ]
  },
  {
   "cell_type": "markdown",
   "metadata": {},
   "source": [
    "### Save prediction data"
   ]
  },
  {
   "cell_type": "code",
   "execution_count": 4,
   "metadata": {},
   "outputs": [],
   "source": [
    "with open(f'data/predictions.pkl', 'wb') as f:\n",
    "    pickle.dump(pred_data, f)"
   ]
  },
  {
   "cell_type": "markdown",
   "metadata": {},
   "source": [
    "## Load prediction"
   ]
  },
  {
   "cell_type": "code",
   "execution_count": 5,
   "metadata": {},
   "outputs": [],
   "source": [
    "with open(f'data/predictions.pkl', 'rb') as f:\n",
    "    pred_data = pickle.load(f)"
   ]
  },
  {
   "cell_type": "markdown",
   "metadata": {},
   "source": [
    "## Plot prediction over time"
   ]
  },
  {
   "cell_type": "code",
   "execution_count": 6,
   "metadata": {},
   "outputs": [
    {
     "name": "stdout",
     "output_type": "stream",
     "text": [
      "Final count: 42.95%\n",
      "First ypred: 41.80%\n",
      "Difference:  1.15\n"
     ]
    },
    {
     "data": {
      "image/png": "[encoded data removed]",
      "text/plain": [
       "<Figure size 1152x648 with 1 Axes>"
      ]
     },
     "metadata": {
      "needs_background": "light"
     },
     "output_type": "display_data"
    }
   ],
   "source": [
    "vote = 6290\n",
    "preds = pred_data[vote]\n",
    "ypred = [p['ypred'] for p in preds]\n",
    "count = [p['count'] for p in preds]\n",
    "x = np.arange(len(ypred))\n",
    "# x = [p['counting'] for p in preds]\n",
    "\n",
    "print(f'Final count: {count[-1]*100:.2f}%')\n",
    "print(f'First ypred: {ypred[0]*100:.2f}%')\n",
    "print(f'Difference:  {abs(count[-1]-ypred[0])*100:.2f}')\n",
    "plt.figure(figsize=(16, 9))\n",
    "plt.plot(x, ypred, linewidth=4, label='Prediction')\n",
    "plt.plot(x, count, linewidth=4, label='Count')\n",
    "\n",
    "plt.xticks(np.arange(0, 125, 2), rotation=90)\n",
    "plt.title('Prediction and count over time')\n",
    "# plt.xlim([0, 125])\n",
    "plt.legend(loc='lower right')\n",
    "plt.xlabel('Time')\n",
    "plt.ylabel('Results [%]')\n",
    "plt.grid()\n",
    "plt.show()"
   ]
  },
  {
   "cell_type": "markdown",
   "metadata": {},
   "source": [
    "I know, the predictions at `t=0` are slightly different from the paper.\n",
    "I don't know how to explain this different, except that I updated the dependencies (and Python) when cleaning up this notebook for a public release.\n",
    "I don't recall the exact versions I used when generating the predictions for the paper back in February 2020.\n",
    "That being said, the new predictions are a bit better than the one reported in Table 3 of the paper."
   ]
  }
 ],
 "metadata": {
  "kernelspec": {
   "display_name": "Python 3",
   "language": "python",
   "name": "python3"
  },
  "language_info": {
   "codemirror_mode": {
    "name": "ipython",
    "version": 3
   },
   "file_extension": ".py",
   "mimetype": "text/x-python",
   "name": "python",
   "nbconvert_exporter": "python",
   "pygments_lexer": "ipython3",
   "version": "3.8.5"
  }
 },
 "nbformat": 4,
 "nbformat_minor": 2
}
